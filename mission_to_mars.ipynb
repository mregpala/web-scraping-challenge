{
 "cells": [
  {
   "cell_type": "markdown",
   "metadata": {},
   "source": [
    "#  Mission to Mars ETL Project"
   ]
  },
  {
   "cell_type": "markdown",
   "metadata": {},
   "source": [
    "## Import Required Modules "
   ]
  },
  {
   "cell_type": "code",
   "execution_count": 42,
   "metadata": {},
   "outputs": [],
   "source": [
    "#Import our Modules\n",
    "from splinter import Browser\n",
    "from bs4 import BeautifulSoup\n",
    "from webdriver_manager.chrome import ChromeDriverManager\n",
    "import requests\n",
    "import pandas as pd\n",
    "import time \n"
   ]
  },
  {
   "cell_type": "markdown",
   "metadata": {},
   "source": [
    "## URL Variables"
   ]
  },
  {
   "cell_type": "code",
   "execution_count": 2,
   "metadata": {},
   "outputs": [],
   "source": [
    "site_base = 'https://astrogeology.usgs.gov'\n",
    "mars_latest_news_url = 'https://mars.nasa.gov/news/?page=0&per_page=40&order=publish_date+desc%2Ccreated_at+desc&search=&category=19%2C165%2C184%2C204&blank_scope=Latest'\n",
    "mars_gallery_url = 'https://www.jpl.nasa.gov/images?search='\n",
    "mars_facts_url = 'https://space-facts.com/mars/'\n",
    "mars_hemisphers_url = 'https://astrogeology.usgs.gov/search/results?q=hemisphere+enhanced'"
   ]
  },
  {
   "cell_type": "markdown",
   "metadata": {},
   "source": [
    "## Get Latest News"
   ]
  },
  {
   "cell_type": "code",
   "execution_count": 3,
   "metadata": {
    "scrolled": false
   },
   "outputs": [],
   "source": [
    "html = requests.get(mars_latest_news_url)\n",
    "bs = BeautifulSoup(html.text,'html.parser')"
   ]
  },
  {
   "cell_type": "code",
   "execution_count": 4,
   "metadata": {
    "scrolled": true
   },
   "outputs": [],
   "source": [
    "results = bs.find(\"div\",class_=\"slide\")\n",
    "paragraph = results.a.text.strip()\n",
    "title = results.find('div',class_=\"content_title\").text.strip()\n"
   ]
  },
  {
   "cell_type": "code",
   "execution_count": 41,
   "metadata": {
    "scrolled": true
   },
   "outputs": [
    {
     "name": "stdout",
     "output_type": "stream",
     "text": [
      "NASA Ingenuity Mars Helicopter Prepares for First Flight\n",
      "Now uncocooned from its protective carbon-fiber shield, the helicopter is being readied for its next steps.\n"
     ]
    }
   ],
   "source": [
    "print(title)\n",
    "print(paragraph)\n"
   ]
  },
  {
   "cell_type": "markdown",
   "metadata": {},
   "source": [
    "## Splinter Work"
   ]
  },
  {
   "cell_type": "code",
   "execution_count": 6,
   "metadata": {
    "scrolled": false
   },
   "outputs": [
    {
     "name": "stderr",
     "output_type": "stream",
     "text": [
      "[WDM] - ====== WebDriver manager ======\n"
     ]
    },
    {
     "name": "stdout",
     "output_type": "stream",
     "text": [
      "\n",
      "\n"
     ]
    },
    {
     "name": "stderr",
     "output_type": "stream",
     "text": [
      "[WDM] - Current google-chrome version is 89.0.4389\n",
      "[WDM] - Get LATEST driver version for 89.0.4389\n",
      "[WDM] - Driver [C:\\Users\\mreg9\\.wdm\\drivers\\chromedriver\\win32\\89.0.4389.23\\chromedriver.exe] found in cache\n"
     ]
    }
   ],
   "source": [
    "# Setup splinter browser driver\n",
    "executable_path = {'executable_path': ChromeDriverManager().install()}\n",
    "browser = Browser('chrome', **executable_path, headless=False)\n",
    "browser.visit(mars_gallery_url)\n",
    "time.sleep(2)"
   ]
  },
  {
   "cell_type": "code",
   "execution_count": 7,
   "metadata": {
    "scrolled": true
   },
   "outputs": [],
   "source": [
    "browser.find_by_css(\"input[id=filter_Mars]\").first.click()   \n"
   ]
  },
  {
   "cell_type": "code",
   "execution_count": 8,
   "metadata": {
    "scrolled": true
   },
   "outputs": [
    {
     "name": "stdout",
     "output_type": "stream",
     "text": [
      "<div class=\"SearchResultCard\" page_id=\"127961\" page_score=\"1\"><a class=\"group cursor-pointer block\" href=\"/images/dawes-crater-false-color\"><div class=\"border-gray-light-mid lg:pb-10 lg:mb-10 relative grid grid-cols-9 gap-5 pb-6 mb-6 border-b\"><div class=\"lg:hidden col-span-full text-subtitle\"><span>\n",
      "        Image\n",
      "        <span class=\"sr-only\">.</span></span> <!-- --> <!-- --></div> <div class=\"sm:col-span-6 md:col-span-6 lg:col-span-7 xl:col-span-7 col-span-6\"><div class=\"text-subtitle lg:block hidden mb-3\"><span>\n",
      "          Image\n",
      "          <span class=\"sr-only\">.</span></span> <!-- --> <!-- --></div> <h2 class=\"mb-3 text-h5\">Dawes Crater - False Color</h2> <!-- --> <p class=\"text-gray-mid-dark\">Mar 26, 2021</p></div> <div class=\"SearchResultCard-image xl:pl-14 sm:col-span-3 md:col-span-3 lg:col-span-2 xl:col-span-2 col-span-3\"><div data-v-a6031820=\"\"><div class=\"BaseImagePlaceholder aspect-ratio-one-one dark-theme\" data-v-a6031820=\"\"><div class=\"sm:object-cover object-cover\" data-v-a6031820=\"\"><img alt=\"\" class=\"BaseImage object-contain\" data-src=\"https://d2pn8kiwq2w21t.cloudfront.net/images/jpegPIA24510.2e16d0ba.fill-400x400-c50.jpg\" loading=\"lazy\" src=\"https://d2pn8kiwq2w21t.cloudfront.net/images/jpegPIA24510.2e16d0ba.fill-400x400-c50.jpg\"/></div> </div></div></div></div></a></div>\n"
     ]
    }
   ],
   "source": [
    "time.sleep(2)\n",
    "bs = BeautifulSoup(browser.html,'html.parser')\n",
    "results = bs.find(\"div\",class_=\"SearchResultCard\")\n",
    "print(results)"
   ]
  },
  {
   "cell_type": "code",
   "execution_count": 9,
   "metadata": {
    "scrolled": false
   },
   "outputs": [],
   "source": [
    "large_image_html = results.a['href']"
   ]
  },
  {
   "cell_type": "code",
   "execution_count": 10,
   "metadata": {
    "scrolled": true
   },
   "outputs": [
    {
     "name": "stderr",
     "output_type": "stream",
     "text": [
      "D:\\ProgramData\\Anaconda3\\lib\\site-packages\\splinter\\driver\\webdriver\\__init__.py:474: FutureWarning: browser.find_link_by_href is deprecated. Use browser.links.find_by_href instead.\n",
      "  warnings.warn(\n"
     ]
    }
   ],
   "source": [
    "browser.click_link_by_href(large_image_html)"
   ]
  },
  {
   "cell_type": "code",
   "execution_count": 11,
   "metadata": {},
   "outputs": [],
   "source": [
    "bs = BeautifulSoup(browser.html,'html.parser')\n",
    "results = bs.find(\"div\",class_= \"BaseImagePlaceholder\")"
   ]
  },
  {
   "cell_type": "code",
   "execution_count": 12,
   "metadata": {
    "scrolled": true
   },
   "outputs": [],
   "source": [
    "featured_image_url = results.img['src']"
   ]
  },
  {
   "cell_type": "code",
   "execution_count": 13,
   "metadata": {},
   "outputs": [
    {
     "name": "stdout",
     "output_type": "stream",
     "text": [
      "https://d2pn8kiwq2w21t.cloudfront.net/images/jpegPIA24510.2e16d0ba.fill-400x400-c50.jpg\n"
     ]
    }
   ],
   "source": [
    "print(featured_image_url)"
   ]
  },
  {
   "cell_type": "markdown",
   "metadata": {},
   "source": [
    "##  Mars Facts Table Scraping With Pandas"
   ]
  },
  {
   "cell_type": "code",
   "execution_count": 14,
   "metadata": {
    "scrolled": true
   },
   "outputs": [],
   "source": [
    "html = requests.get(mars_facts_url)"
   ]
  },
  {
   "cell_type": "code",
   "execution_count": 15,
   "metadata": {},
   "outputs": [],
   "source": [
    "df = pd.read_html(html.text)\n",
    "mars_facts_df = df[0]\n",
    "\n",
    "cols = [\"Stats\", \"Values\"]\n",
    "\n",
    "mars_facts_df.set_axis(cols,axis=\"columns\",inplace=True)\n",
    "mars_facts_df.set_index([\"Stats\",\"Values\"],inplace=True)"
   ]
  },
  {
   "cell_type": "code",
   "execution_count": 30,
   "metadata": {},
   "outputs": [
    {
     "data": {
      "text/html": [
       "<div>\n",
       "<style scoped>\n",
       "    .dataframe tbody tr th:only-of-type {\n",
       "        vertical-align: middle;\n",
       "    }\n",
       "\n",
       "    .dataframe tbody tr th {\n",
       "        vertical-align: top;\n",
       "    }\n",
       "\n",
       "    .dataframe thead th {\n",
       "        text-align: right;\n",
       "    }\n",
       "</style>\n",
       "<table border=\"1\" class=\"dataframe\">\n",
       "  <thead>\n",
       "    <tr style=\"text-align: right;\">\n",
       "      <th></th>\n",
       "      <th></th>\n",
       "    </tr>\n",
       "    <tr>\n",
       "      <th>Stats</th>\n",
       "      <th>Values</th>\n",
       "    </tr>\n",
       "  </thead>\n",
       "  <tbody>\n",
       "    <tr>\n",
       "      <th>Equatorial Diameter:</th>\n",
       "      <th>6,792 km</th>\n",
       "    </tr>\n",
       "    <tr>\n",
       "      <th>Polar Diameter:</th>\n",
       "      <th>6,752 km</th>\n",
       "    </tr>\n",
       "    <tr>\n",
       "      <th>Mass:</th>\n",
       "      <th>6.39 × 10^23 kg (0.11 Earths)</th>\n",
       "    </tr>\n",
       "    <tr>\n",
       "      <th>Moons:</th>\n",
       "      <th>2 (Phobos &amp; Deimos)</th>\n",
       "    </tr>\n",
       "    <tr>\n",
       "      <th>Orbit Distance:</th>\n",
       "      <th>227,943,824 km (1.38 AU)</th>\n",
       "    </tr>\n",
       "  </tbody>\n",
       "</table>\n",
       "</div>"
      ],
      "text/plain": [
       "Empty DataFrame\n",
       "Columns: []\n",
       "Index: [(Equatorial Diameter:, 6,792 km), (Polar Diameter:, 6,752 km), (Mass:, 6.39 × 10^23 kg (0.11 Earths)), (Moons:, 2 (Phobos & Deimos)), (Orbit Distance:, 227,943,824 km (1.38 AU))]"
      ]
     },
     "execution_count": 30,
     "metadata": {},
     "output_type": "execute_result"
    }
   ],
   "source": [
    "mars_facts_df.head()"
   ]
  },
  {
   "cell_type": "code",
   "execution_count": 31,
   "metadata": {},
   "outputs": [],
   "source": [
    "mars_facts_html_table = mars_facts_df.to_html(classes=[\"table\",\"table-striped\"])\n"
   ]
  },
  {
   "cell_type": "code",
   "execution_count": 32,
   "metadata": {
    "scrolled": true
   },
   "outputs": [],
   "source": [
    "mars_facts_html_table = mars_facts_html_table.replace('\\n', '')"
   ]
  },
  {
   "cell_type": "code",
   "execution_count": 34,
   "metadata": {
    "scrolled": true
   },
   "outputs": [
    {
     "data": {
      "text/plain": [
       "'<table border=\"1\" class=\"dataframe table table-striped\">  <thead>    <tr style=\"text-align: right;\">      <th></th>      <th></th>    </tr>    <tr>      <th>Stats</th>      <th>Values</th>    </tr>  </thead>  <tbody>    <tr>      <th>Equatorial Diameter:</th>      <th>6,792 km</th>    </tr>    <tr>      <th>Polar Diameter:</th>      <th>6,752 km</th>    </tr>    <tr>      <th>Mass:</th>      <th>6.39 × 10^23 kg (0.11 Earths)</th>    </tr>    <tr>      <th>Moons:</th>      <th>2 (Phobos &amp; Deimos)</th>    </tr>    <tr>      <th>Orbit Distance:</th>      <th>227,943,824 km (1.38 AU)</th>    </tr>    <tr>      <th>Orbit Period:</th>      <th>687 days (1.9 years)</th>    </tr>    <tr>      <th>Surface Temperature:</th>      <th>-87 to -5 °C</th>    </tr>    <tr>      <th>First Record:</th>      <th>2nd millennium BC</th>    </tr>    <tr>      <th>Recorded By:</th>      <th>Egyptian astronomers</th>    </tr>  </tbody></table>'"
      ]
     },
     "execution_count": 34,
     "metadata": {},
     "output_type": "execute_result"
    }
   ],
   "source": [
    "mars_facts_html_table"
   ]
  },
  {
   "cell_type": "markdown",
   "metadata": {},
   "source": [
    "## Use Selenium to Scrape Mars Hemisphere Images"
   ]
  },
  {
   "cell_type": "code",
   "execution_count": 18,
   "metadata": {},
   "outputs": [],
   "source": [
    "browser.visit(mars_hemisphers_url)"
   ]
  },
  {
   "cell_type": "code",
   "execution_count": 19,
   "metadata": {},
   "outputs": [],
   "source": [
    "bs = BeautifulSoup(browser.html,'html.parser')"
   ]
  },
  {
   "cell_type": "code",
   "execution_count": 20,
   "metadata": {},
   "outputs": [],
   "source": [
    "results = bs.find_all('div', class_=\"item\")"
   ]
  },
  {
   "cell_type": "code",
   "execution_count": 21,
   "metadata": {
    "scrolled": false
   },
   "outputs": [],
   "source": [
    "hemi_image_url_list = []\n",
    "for result in results:\n",
    "    hemi_dict = {}\n",
    "    link = result.a['href'].strip()\n",
    "    title_url = result.h3.text\n",
    "    browser.visit(site_base + link)\n",
    "    bs = BeautifulSoup(browser.html,'html.parser')\n",
    "    res = bs.find('img',class_='wide-image')\n",
    "    img_url = site_base + res['src']\n",
    "    hemi_dict = {\"title\":title_url, \"img_url\":img_url}\n",
    "    hemi_image_url_list.append(hemi_dict)\n"
   ]
  },
  {
   "cell_type": "code",
   "execution_count": 44,
   "metadata": {
    "scrolled": true
   },
   "outputs": [
    {
     "name": "stdout",
     "output_type": "stream",
     "text": [
      "[   {   'img_url': 'https://astrogeology.usgs.gov/cache/images/f5e372a36edfa389625da6d0cc25d905_cerberus_enhanced.tif_full.jpg',\n",
      "        'title': 'Cerberus Hemisphere Enhanced'},\n",
      "    {   'img_url': 'https://astrogeology.usgs.gov/cache/images/3778f7b43bbbc89d6e3cfabb3613ba93_schiaparelli_enhanced.tif_full.jpg',\n",
      "        'title': 'Schiaparelli Hemisphere Enhanced'},\n",
      "    {   'img_url': 'https://astrogeology.usgs.gov/cache/images/555e6403a6ddd7ba16ddb0e471cadcf7_syrtis_major_enhanced.tif_full.jpg',\n",
      "        'title': 'Syrtis Major Hemisphere Enhanced'},\n",
      "    {   'img_url': 'https://astrogeology.usgs.gov/cache/images/b3c7c6c9138f57b4756be9b9c43e3a48_valles_marineris_enhanced.tif_full.jpg',\n",
      "        'title': 'Valles Marineris Hemisphere Enhanced'}]\n"
     ]
    }
   ],
   "source": [
    "import pprint \n",
    "pp = pprint.PrettyPrinter(indent=4)\n",
    "pp.pprint(hemi_image_url_list)"
   ]
  },
  {
   "cell_type": "markdown",
   "metadata": {},
   "source": [
    "## Create Data Dictionary of all scraped data "
   ]
  },
  {
   "cell_type": "code",
   "execution_count": 25,
   "metadata": {},
   "outputs": [],
   "source": [
    "final_dict = {\n",
    "    \"LatestNewsTitle\": title,\n",
    "    \"LatestNewsParagraph\":paragraph,\n",
    "    \"FeatureImageUrl\": featured_image_url,\n",
    "    \"MarsFactHtml\":mars_facts_html_table,\n",
    "    \"HemispherImageUrlList\":hemi_image_url_list\n",
    "}"
   ]
  },
  {
   "cell_type": "code",
   "execution_count": 26,
   "metadata": {},
   "outputs": [
    {
     "data": {
      "text/plain": [
       "{'LatestNewsTitle': 'NASA Ingenuity Mars Helicopter Prepares for First Flight',\n",
       " 'LatestNewsParagraph': 'Now uncocooned from its protective carbon-fiber shield, the helicopter is being readied for its next steps.',\n",
       " 'FeatureImageUrl': 'https://d2pn8kiwq2w21t.cloudfront.net/images/jpegPIA24510.2e16d0ba.fill-400x400-c50.jpg',\n",
       " 'MarsFactHtml': '<table border=\"1\" class=\"dataframe\">  <thead>    <tr style=\"text-align: right;\">      <th></th>      <th></th>    </tr>    <tr>      <th>Stats</th>      <th>Values</th>    </tr>  </thead>  <tbody>    <tr>      <th>Equatorial Diameter:</th>      <th>6,792 km</th>    </tr>    <tr>      <th>Polar Diameter:</th>      <th>6,752 km</th>    </tr>    <tr>      <th>Mass:</th>      <th>6.39 × 10^23 kg (0.11 Earths)</th>    </tr>    <tr>      <th>Moons:</th>      <th>2 (Phobos &amp; Deimos)</th>    </tr>    <tr>      <th>Orbit Distance:</th>      <th>227,943,824 km (1.38 AU)</th>    </tr>    <tr>      <th>Orbit Period:</th>      <th>687 days (1.9 years)</th>    </tr>    <tr>      <th>Surface Temperature:</th>      <th>-87 to -5 °C</th>    </tr>    <tr>      <th>First Record:</th>      <th>2nd millennium BC</th>    </tr>    <tr>      <th>Recorded By:</th>      <th>Egyptian astronomers</th>    </tr>  </tbody></table>',\n",
       " 'HemispherImageUrlList': [{'title': 'Cerberus Hemisphere Enhanced',\n",
       "   'img_url': 'https://astrogeology.usgs.gov/cache/images/f5e372a36edfa389625da6d0cc25d905_cerberus_enhanced.tif_full.jpg'},\n",
       "  {'title': 'Schiaparelli Hemisphere Enhanced',\n",
       "   'img_url': 'https://astrogeology.usgs.gov/cache/images/3778f7b43bbbc89d6e3cfabb3613ba93_schiaparelli_enhanced.tif_full.jpg'},\n",
       "  {'title': 'Syrtis Major Hemisphere Enhanced',\n",
       "   'img_url': 'https://astrogeology.usgs.gov/cache/images/555e6403a6ddd7ba16ddb0e471cadcf7_syrtis_major_enhanced.tif_full.jpg'},\n",
       "  {'title': 'Valles Marineris Hemisphere Enhanced',\n",
       "   'img_url': 'https://astrogeology.usgs.gov/cache/images/b3c7c6c9138f57b4756be9b9c43e3a48_valles_marineris_enhanced.tif_full.jpg'}]}"
      ]
     },
     "execution_count": 26,
     "metadata": {},
     "output_type": "execute_result"
    }
   ],
   "source": [
    "final_dict"
   ]
  }
 ],
 "metadata": {
  "kernelspec": {
   "display_name": "Python 3",
   "language": "python",
   "name": "python3"
  },
  "language_info": {
   "codemirror_mode": {
    "name": "ipython",
    "version": 3
   },
   "file_extension": ".py",
   "mimetype": "text/x-python",
   "name": "python",
   "nbconvert_exporter": "python",
   "pygments_lexer": "ipython3",
   "version": "3.8.5"
  }
 },
 "nbformat": 4,
 "nbformat_minor": 4
}
